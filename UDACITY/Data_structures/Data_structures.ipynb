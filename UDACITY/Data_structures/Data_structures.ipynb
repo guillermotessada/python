{
 "cells": [
  {
   "cell_type": "markdown",
   "id": "1cc3d138",
   "metadata": {},
   "source": [
    "# Version 1.0"
   ]
  },
  {
   "cell_type": "markdown",
   "id": "c725b869-3478-4f49-8d17-4ce83b93c688",
   "metadata": {},
   "source": [
    "# Data Structures\n",
    "\n",
    "* Types of Data Structures: Lists, Tuples, Sets, Dictionaries, Compound Data Structures\n",
    "* Operators: Membership, Identity\n",
    "* Built-In Functions or Methods\n",
    "\n"
   ]
  },
  {
   "cell_type": "markdown",
   "id": "7087e5f8-db5b-4ec5-9118-950c6955e85a",
   "metadata": {},
   "source": [
    "# Lists\n",
    "* las estructuras de datos son contenedores que organizan y agrupan tipos de datos de diferentes maneras. Una lista es una de las estructuras de datos más comunes y básicas en Python\n",
    "* ina lista se crea con [ ] y los elementos estan separados por ','\n",
    "* las listas pueden contener cualquier combinación de los tipos de datos que haya visto hasta ahora.\n",
    "* las listas son estructuras de datos que contienen una sequencia mutable y en orden de elementos\n",
    "* el hecho que sean los elementos sean ordenados se refiere a que estan indexados, index parte de la posicion 0, esta se llama indexacion base cero\n",
    "* en el caso se llame un index que no este en la lista se recibe un error \"list index out of range\""
   ]
  },
  {
   "cell_type": "code",
   "execution_count": 5,
   "id": "adf74084-588a-455d-90d7-fba00e7f56ec",
   "metadata": {
    "tags": []
   },
   "outputs": [],
   "source": [
    "# lista\n",
    "months = ['January', 'February', 'March', 'April', 'May', 'June', 'July', 'August', 'September', 'October', 'November', 'December']"
   ]
  },
  {
   "cell_type": "code",
   "execution_count": 7,
   "id": "c5160a74-ff69-4a0a-992c-bd05db65f85a",
   "metadata": {
    "tags": []
   },
   "outputs": [
    {
     "name": "stdout",
     "output_type": "stream",
     "text": [
      "<class 'list'>\n"
     ]
    }
   ],
   "source": [
    "print(type(months))"
   ]
  },
  {
   "cell_type": "code",
   "execution_count": 9,
   "id": "85a6e343-fcde-4292-b296-4d5b436b2e1e",
   "metadata": {
    "tags": []
   },
   "outputs": [
    {
     "name": "stdout",
     "output_type": "stream",
     "text": [
      "January\n",
      "October\n"
     ]
    }
   ],
   "source": [
    "# buscar en una lista por index\n",
    "# logica: lista [ index ]\n",
    "# la posicion 0 entrega el primer elemento de la lista\n",
    "print(months[0])\n",
    "print(months[9])"
   ]
  },
  {
   "cell_type": "code",
   "execution_count": 11,
   "id": "87753ae5-23e3-4809-8575-2cb330cc4387",
   "metadata": {
    "tags": []
   },
   "outputs": [
    {
     "name": "stdout",
     "output_type": "stream",
     "text": [
      "December\n",
      "October\n"
     ]
    }
   ],
   "source": [
    "# recorrer la lista desde su fin\n",
    "# para recorrer la lista desde su fin se una un - \n",
    "# la primera posicion es -1\n",
    "# logica lista[-index]\n",
    "print(months[-1])\n",
    "print(months[-3])"
   ]
  },
  {
   "cell_type": "code",
   "execution_count": 13,
   "id": "30b5e22f-65bf-4976-b51a-c1292932fe00",
   "metadata": {
    "tags": []
   },
   "outputs": [],
   "source": [
    "# error cuando se llama un indice que no esta en la lista\n",
    "#print(months[15])"
   ]
  },
  {
   "cell_type": "code",
   "execution_count": 15,
   "id": "70443e51-fdf8-49b8-85a4-8f012cfca8a8",
   "metadata": {
    "tags": []
   },
   "outputs": [
    {
     "name": "stdout",
     "output_type": "stream",
     "text": [
      "3.4\n",
      "3.4\n",
      "<class 'float'>\n",
      "hola\n",
      "<class 'str'>\n"
     ]
    }
   ],
   "source": [
    "#ejemplo\n",
    "# lista con diferentes tipos de objetos string, int, bool\n",
    "list_of_random_things = [1, 3.4, 'hola', True]\n",
    "print(list_of_random_things[1])\n",
    "#se puede asignar como valor a una variable\n",
    "x=(list_of_random_things[1])\n",
    "print(x)\n",
    "# la variable asignada mantiene su tipo de dato\n",
    "print(type(x))\n",
    "y=(list_of_random_things[2])\n",
    "print(y)\n",
    "print(type(y))"
   ]
  },
  {
   "cell_type": "markdown",
   "id": "22db5539-70b1-4acb-bb59-4eff83a9213a",
   "metadata": {
    "tags": []
   },
   "source": [
    "## SLICE\n",
    "* slice es segmentar por indice partes de un objeto, lista o cadena a <br> diferencia de antes que se seleccionaba solo un elemento de la lista\n"
   ]
  },
  {
   "cell_type": "code",
   "execution_count": 18,
   "id": "2cd632f3-1035-4edb-ad96-bba15a45dc98",
   "metadata": {
    "tags": []
   },
   "outputs": [],
   "source": [
    "# slice de una lista\n",
    "months = ['January', 'February', 'March', 'April', 'May', 'June', 'July', 'August', 'September', 'October', 'November', 'December']"
   ]
  },
  {
   "cell_type": "code",
   "execution_count": 54,
   "id": "5635b4a7-c8f4-4a2e-b209-b394b9acda2b",
   "metadata": {
    "tags": []
   },
   "outputs": [
    {
     "name": "stdout",
     "output_type": "stream",
     "text": [
      "['January', 'February', 'March']\n",
      "['January', 'February', 'March']\n",
      "<class 'list'>\n"
     ]
    }
   ],
   "source": [
    "# slice para obtener solo algunos elementos de la lista\n",
    "# logica se usa list[start:end] el end es excluso\n",
    "print(months[0:3])\n",
    "# podemoas asignarlo a una variable\n",
    "q3 =months[0:3]\n",
    "print(q3)\n",
    "# con slice se obtiene un tipo dato clase list\n",
    "print(type(q3))"
   ]
  },
  {
   "cell_type": "markdown",
   "id": "f3f26a4b-5144-4216-ac5d-39556558ce23",
   "metadata": {},
   "source": [
    "## Slice particulares"
   ]
  },
  {
   "cell_type": "code",
   "execution_count": 56,
   "id": "f39b43f5-b8d4-4b7e-9ba6-c41acbb0389e",
   "metadata": {
    "tags": []
   },
   "outputs": [
    {
     "data": {
      "text/plain": [
       "['January', 'February', 'March', 'April', 'May']"
      ]
     },
     "execution_count": 56,
     "metadata": {},
     "output_type": "execute_result"
    }
   ],
   "source": [
    "# en este caso parte del indice 0 y hasta el 5()excluso\n",
    "months[:5]"
   ]
  },
  {
   "cell_type": "code",
   "execution_count": 62,
   "id": "a0a7ba9c-5b27-49a9-b356-2fc18fcdbf77",
   "metadata": {
    "tags": []
   },
   "outputs": [
    {
     "data": {
      "text/plain": [
       "['June', 'July', 'August', 'September', 'October', 'November', 'December']"
      ]
     },
     "execution_count": 62,
     "metadata": {},
     "output_type": "execute_result"
    }
   ],
   "source": [
    "# en este caso el slice parte de un punto y va hasta la fin del objeto\n",
    "months[5:]"
   ]
  },
  {
   "cell_type": "markdown",
   "id": "72c3bf94-599f-4061-a6f2-aba8e3837057",
   "metadata": {},
   "source": [
    "# Nota Listas vs cadenas:\n",
    "* son similares a las cadenas de de caracteres\n",
    "* se pueden aplicar metodos y funciones\n",
    "* len, indexar, segmentar"
   ]
  },
  {
   "cell_type": "code",
   "execution_count": 91,
   "id": "c17590b6-4875-4e87-888e-e2a6f443be33",
   "metadata": {
    "tags": []
   },
   "outputs": [],
   "source": [
    "word = 'ciao tutti'\n",
    "months = ['January', 'February', 'March', 'April', 'May', 'June', 'July', 'August', 'September', 'October', 'November', 'December']"
   ]
  },
  {
   "cell_type": "code",
   "execution_count": 93,
   "id": "5d3d410f-d442-4655-a016-f99bbec816b7",
   "metadata": {
    "tags": []
   },
   "outputs": [
    {
     "name": "stdout",
     "output_type": "stream",
     "text": [
      "12\n",
      "<class 'int'>\n",
      "10\n",
      "<class 'int'>\n"
     ]
    }
   ],
   "source": [
    "# aplicamos len\n",
    "#lista\n",
    "len(months)\n",
    "x = len(months)\n",
    "print (x)\n",
    "print(type(x))\n",
    "#string\n",
    "len(word)\n",
    "y = len(word)\n",
    "print(y)\n",
    "print(type(y))"
   ]
  },
  {
   "cell_type": "code",
   "execution_count": 97,
   "id": "4e9ef289-1cf2-48a4-9a55-d7f2e42961ec",
   "metadata": {
    "tags": []
   },
   "outputs": [
    {
     "name": "stdout",
     "output_type": "stream",
     "text": [
      "['March', 'April', 'May', 'June']\n",
      "ao t\n"
     ]
    }
   ],
   "source": [
    "# aplicamos slice\n",
    "#lista\n",
    "print(months[2:6])\n",
    "#string\n",
    "print(word[2:6])"
   ]
  },
  {
   "attachments": {
    "c74b50ed-f0e4-4854-9ac9-47f1af328ae2.PNG": {
     "image/png": "[encoded data removed]"
    }
   },
   "cell_type": "markdown",
   "id": "1501a24e-a71f-42db-96d7-d5c31efbddb2",
   "metadata": {},
   "source": [
    "# Operadores de pertenencia 'in' 'not in'\n",
    "* in : evalua si el objeeto a su dx contiene el objeto a su dx\n",
    "* not in: evalua si el objeto a la dx no esta en el objeto de la sx\n",
    "* como resultado entregan un bool True o False\n",
    "\n",
    "\n",
    "\n",
    "![Captura.PNG](attachment:c74b50ed-f0e4-4854-9ac9-47f1af328ae2.PNG)"
   ]
  },
  {
   "cell_type": "code",
   "execution_count": 106,
   "id": "c53ebae3-8b66-4352-b1bc-ba53a8236036",
   "metadata": {
    "tags": []
   },
   "outputs": [],
   "source": [
    "#ejemplo\n",
    "greeting = 'Hello there'"
   ]
  },
  {
   "cell_type": "code",
   "execution_count": 110,
   "id": "441e644f-8c28-4bbe-853e-e48e90b754ff",
   "metadata": {
    "tags": []
   },
   "outputs": [
    {
     "data": {
      "text/plain": [
       "True"
      ]
     },
     "execution_count": 110,
     "metadata": {},
     "output_type": "execute_result"
    }
   ],
   "source": [
    "# in se puede usar con una cadena que no sea una palabra completa\n",
    "'her' in greeting "
   ]
  },
  {
   "cell_type": "code",
   "execution_count": 120,
   "id": "e769ce86-77ba-4ee8-9f79-361af1ec2d9e",
   "metadata": {
    "tags": []
   },
   "outputs": [
    {
     "data": {
      "text/plain": [
       "False"
      ]
     },
     "execution_count": 120,
     "metadata": {},
     "output_type": "execute_result"
    }
   ],
   "source": [
    "# not in es sensible a las mayusculas y minusculas\n",
    "# en este caso estoy usando not in\n",
    "'Hello' not in greeting"
   ]
  },
  {
   "cell_type": "code",
   "execution_count": 118,
   "id": "b15824be-5e5f-4609-a9d7-76c77072688c",
   "metadata": {
    "tags": []
   },
   "outputs": [
    {
     "data": {
      "text/plain": [
       "False"
      ]
     },
     "execution_count": 118,
     "metadata": {},
     "output_type": "execute_result"
    }
   ],
   "source": [
    "# not in  y in son sensibles a las mayusculas y minusculas\n",
    "'hello' in greeting"
   ]
  },
  {
   "cell_type": "code",
   "execution_count": 130,
   "id": "8166a754-b8ae-4bd1-a1d6-c5e25f99ce23",
   "metadata": {
    "tags": []
   },
   "outputs": [
    {
     "data": {
      "text/plain": [
       "False"
      ]
     },
     "execution_count": 130,
     "metadata": {},
     "output_type": "execute_result"
    }
   ],
   "source": [
    "# in con numeros\n",
    "5 in [1, 2, 3, 4, 6]"
   ]
  },
  {
   "cell_type": "code",
   "execution_count": 128,
   "id": "2c640868-c6c5-485e-ba32-9d639f217a5d",
   "metadata": {
    "tags": []
   },
   "outputs": [
    {
     "data": {
      "text/plain": [
       "True"
      ]
     },
     "execution_count": 128,
     "metadata": {},
     "output_type": "execute_result"
    }
   ],
   "source": [
    "# not in con numeros\n",
    "5 not in [1, 2, 3, 4, 6]"
   ]
  },
  {
   "cell_type": "code",
   "execution_count": 154,
   "id": "73eb1bb0-232d-4a28-98fe-de75aa49a81b",
   "metadata": {
    "tags": []
   },
   "outputs": [],
   "source": [
    "#ejemplo\n",
    "VINIX = ['C', 'MA', 'BA', 'PG', 'CSCO', 'VZ', 'PFE', 'HD', 'INTC', 'T', 'V', 'UNH', 'WFC', 'CVX', 'BAC', 'JNJ', 'GOOGL', 'GOOG', 'BRK.B', 'XOM', 'JPM', 'FB', 'AMZN', 'MSFT', 'AAPL']"
   ]
  },
  {
   "cell_type": "code",
   "execution_count": 162,
   "id": "5f4e3d8e-ccc6-4c5e-8a5f-75fca90b03dc",
   "metadata": {
    "tags": []
   },
   "outputs": [
    {
     "data": {
      "text/plain": [
       "True"
      ]
     },
     "execution_count": 162,
     "metadata": {},
     "output_type": "execute_result"
    }
   ],
   "source": [
    "'GOOGL' in VINIX"
   ]
  },
  {
   "cell_type": "markdown",
   "id": "1131c69a-2a32-4ccd-9148-d4e2734e4206",
   "metadata": {},
   "source": [
    "# Mutability List y Cadenas\n",
    "\n",
    "* La mutabilidad se trata de si podemos o no cambiar un objeto una vez que ha sido creado. Si un objeto como una lista se puede cambiar, entonces se llama mutable. \n",
    "* Sin embargo, si un objeto no se puede cambiar creando un objeto completamente nuevo (como cadenas), entonces el objeto se considera inmutable.\n",
    "* la diferencia entre listas y cadenas esta en el hecho que las listas son compuestas de elementos y las cadenas de caracteres\n",
    "* las cadenas son inmutables que significa que para cambiar la cadena, se deberá crear una cadena completamente nueva."
   ]
  },
  {
   "cell_type": "code",
   "execution_count": 138,
   "id": "90279931-5340-4ab1-bfd9-3d0e3476500e",
   "metadata": {
    "tags": []
   },
   "outputs": [
    {
     "name": "stdout",
     "output_type": "stream",
     "text": [
      "['gennaio', 'February', 'March', 'April', 'May', 'June', 'July', 'August', 'September', 'October', 'November', 'December']\n"
     ]
    }
   ],
   "source": [
    "# las listas son modificables\n",
    "months = ['January', 'February', 'March', 'April', 'May', 'June', 'July', 'August', 'September', 'October', 'November', 'December']\n",
    "# usando index podemos asignar a esa posicion de la lista un nuevo valor\n",
    "months[0] ='gennaio'\n",
    "print(months)"
   ]
  },
  {
   "cell_type": "code",
   "execution_count": 142,
   "id": "3b4b232a-5e77-41c6-a41e-b9705d1cc537",
   "metadata": {
    "tags": []
   },
   "outputs": [
    {
     "ename": "TypeError",
     "evalue": "'str' object does not support item assignment",
     "output_type": "error",
     "traceback": [
      "\u001b[1;31m---------------------------------------------------------------------------\u001b[0m",
      "\u001b[1;31mTypeError\u001b[0m                                 Traceback (most recent call last)",
      "Cell \u001b[1;32mIn[142], line 4\u001b[0m\n\u001b[0;32m      1\u001b[0m \u001b[38;5;66;03m# las cadenas no son modificables\u001b[39;00m\n\u001b[0;32m      2\u001b[0m word \u001b[38;5;241m=\u001b[39m \u001b[38;5;124m'\u001b[39m\u001b[38;5;124mciao tutti\u001b[39m\u001b[38;5;124m'\u001b[39m\n\u001b[1;32m----> 4\u001b[0m word[\u001b[38;5;241m0\u001b[39m] \u001b[38;5;241m=\u001b[39m\u001b[38;5;124m'\u001b[39m\u001b[38;5;124mN\u001b[39m\u001b[38;5;124m'\u001b[39m\n",
      "\u001b[1;31mTypeError\u001b[0m: 'str' object does not support item assignment"
     ]
    }
   ],
   "source": [
    "# las cadenas no son modificables\n",
    "word = 'ciao tutti'\n",
    "word[0] ='N'"
   ]
  },
  {
   "cell_type": "markdown",
   "id": "211b5519-8d3d-4e5f-93a3-c22e924825a4",
   "metadata": {},
   "source": [
    "#  Order\n",
    "* El orden trata de si la posición de un elemento en el objeto se puede utilizar para acceder al elemento. Tanto las cadenas como las listas están ordenadas. Podemos usar el orden para acceder a partes de una lista y una cadena.\n"
   ]
  },
  {
   "cell_type": "code",
   "execution_count": 147,
   "id": "affc264e-e679-41fd-b49b-66496bc0e625",
   "metadata": {
    "tags": []
   },
   "outputs": [
    {
     "data": {
      "text/plain": [
       "'April'"
      ]
     },
     "execution_count": 147,
     "metadata": {},
     "output_type": "execute_result"
    }
   ],
   "source": [
    "# las listas si son ordenadas por sus indices\n",
    "months = ['January', 'February', 'March', 'April', 'May', 'June', 'July', 'August', 'September', 'October', 'November', 'December']\n",
    "months[3]\n"
   ]
  },
  {
   "cell_type": "code",
   "execution_count": 149,
   "id": "45f85691-a923-431f-ba8c-80f850b9c51e",
   "metadata": {
    "tags": []
   },
   "outputs": [
    {
     "data": {
      "text/plain": [
       "'c'"
      ]
     },
     "execution_count": 149,
     "metadata": {},
     "output_type": "execute_result"
    }
   ],
   "source": [
    "# las cadenas son ordenadas\n",
    "word = 'ciao tutti'\n",
    "word[0]"
   ]
  },
  {
   "cell_type": "markdown",
   "id": "76a28790-a4d3-4379-ac5a-2f4a69848e3a",
   "metadata": {},
   "source": [
    "# List Methods\n",
    "\n",
    "* len( ) \n",
    "* max ( )\n",
    "* min ( )\n",
    "* sorted ( )"
   ]
  },
  {
   "cell_type": "code",
   "execution_count": 23,
   "id": "6fcc8014-972b-4786-bae9-c99d57d8ea77",
   "metadata": {
    "tags": []
   },
   "outputs": [
    {
     "name": "stdout",
     "output_type": "stream",
     "text": [
      "scorore:['b', 'c', 'a', 'd', 'a']\n",
      "grades:['b', 'c', 'a', 'd', 'a']\n"
     ]
    }
   ],
   "source": [
    "scores = ['b','c','a','d','a']\n",
    "#creo grades desde score\n",
    "grades = scores\n",
    "print('scorore:' + str(scores))\n",
    "print('grades:' + str(grades))"
   ]
  },
  {
   "cell_type": "code",
   "execution_count": 25,
   "id": "a14ded2f-ef7f-472a-bdc9-7e84d50434ff",
   "metadata": {
    "tags": []
   },
   "outputs": [
    {
     "name": "stdout",
     "output_type": "stream",
     "text": [
      "scores:['b', 'c', 'd', 'd', 'a']\n",
      "grades:['b', 'c', 'd', 'd', 'a']\n"
     ]
    }
   ],
   "source": [
    "# modifica de scores y esta modifica se refleja en la list grades\n",
    "scores[2] ='d'\n",
    "print('scores:' + str(scores))\n",
    "print('grades:' + str(grades))"
   ]
  },
  {
   "cell_type": "markdown",
   "id": "8c95e1a0-d265-4d50-8bf7-0df7a5fd7d24",
   "metadata": {
    "tags": []
   },
   "source": [
    "## Funcion len(argumento)\n",
    "* len( ) devuelve cuántos elementos hay en una lista\n",
    "* se puede usar listas que contienen elementos de tipos diferentes e incomparables\n"
   ]
  },
  {
   "cell_type": "code",
   "execution_count": 215,
   "id": "5e65e556-f6a2-426d-9d00-61cf24b47137",
   "metadata": {
    "tags": []
   },
   "outputs": [
    {
     "name": "stdout",
     "output_type": "stream",
     "text": [
      "lista str n 5\n",
      "lista nuemros n 5\n",
      "lista mixta n 5\n"
     ]
    }
   ],
   "source": [
    "# funcion len ( )\n",
    "lists =['a','b','c','d','e']\n",
    "listmin = [15,158,15,6,9]\n",
    "lis_mix = [15,158,'b','c',6]\n",
    "print('lista str' +' n '+ str(len(lists)))\n",
    "print('lista nuemros' + ' n ' + str(len(listmin)))\n",
    "print('lista mixta' + ' n ' + str(len(lis_mix)))"
   ]
  },
  {
   "cell_type": "markdown",
   "id": "c288c90f-bad0-4ce2-b180-8c105695013e",
   "metadata": {},
   "source": [
    "## Funcion max(argumento)\n",
    "* max(argumento) devuelve el elemento más grande de la lista: \n",
    "    * El elemento máximo en una lista de números es el número más grande. \n",
    "    * El número máximo de elementos en una lista de cadenas es el elemento que aparecería en último lugar si la lista estuviera ordenada alfabéticamente\n",
    "    * La función max no está definida para listas que contienen elementos de tipos diferentes e incomparables"
   ]
  },
  {
   "cell_type": "code",
   "execution_count": 218,
   "id": "6094fc3d-62be-4622-811e-19bace2f6a45",
   "metadata": {
    "tags": []
   },
   "outputs": [
    {
     "data": {
      "text/plain": [
       "158"
      ]
     },
     "execution_count": 218,
     "metadata": {},
     "output_type": "execute_result"
    }
   ],
   "source": [
    "# funcion max para nuemeros\n",
    "listm = [15,158,15,6,9]\n",
    "max(listm)"
   ]
  },
  {
   "cell_type": "code",
   "execution_count": 220,
   "id": "d01fdc15-6438-40eb-ae78-0ae5162d1766",
   "metadata": {
    "tags": []
   },
   "outputs": [
    {
     "data": {
      "text/plain": [
       "'e'"
      ]
     },
     "execution_count": 220,
     "metadata": {},
     "output_type": "execute_result"
    }
   ],
   "source": [
    "# funcion max para lista de cadenas\n",
    "# devuelve el ultimo elemento en listas ordenadas\n",
    "lists =['a','b','c','d','e']\n",
    "max(lists)"
   ]
  },
  {
   "cell_type": "code",
   "execution_count": 222,
   "id": "9be317a9-e4ce-4c3c-b24f-c8228f2f9635",
   "metadata": {
    "tags": []
   },
   "outputs": [
    {
     "data": {
      "text/plain": [
       "'September'"
      ]
     },
     "execution_count": 222,
     "metadata": {},
     "output_type": "execute_result"
    }
   ],
   "source": [
    "# funcion max para lista de cadenas no ordenadas\n",
    "# devuelve el elemento que inicia con la ultima letra por orden alfabetico\n",
    "months = ['January', 'February', 'March', 'April', 'May', 'June', 'July', 'August', 'September', 'October', 'November', 'December']\n",
    "max(months)"
   ]
  },
  {
   "cell_type": "markdown",
   "id": "9ba3533b-6e2d-4c38-9a07-139526ab6f93",
   "metadata": {},
   "source": [
    "## Funcion min(argumento)\n",
    "* min(argumento) devuelve el elemento más pequeño de una lista.\n",
    "* La función min no está definida para listas que contienen elementos de tipos diferentes e incomparables\n"
   ]
  },
  {
   "cell_type": "code",
   "execution_count": 225,
   "id": "521f6d36-cfa5-4a59-a5df-ab628cd7c622",
   "metadata": {
    "tags": []
   },
   "outputs": [],
   "source": [
    "months = ['January', 'February', 'March', 'April', 'May', 'June', 'July', 'August', 'September', 'October', 'November', 'December']"
   ]
  },
  {
   "cell_type": "code",
   "execution_count": 227,
   "id": "e045bb86-6f84-46dd-8803-4f6e2c219ae2",
   "metadata": {
    "tags": []
   },
   "outputs": [
    {
     "data": {
      "text/plain": [
       "6"
      ]
     },
     "execution_count": 227,
     "metadata": {},
     "output_type": "execute_result"
    }
   ],
   "source": [
    "# funcion min para nuemeros\n",
    "listmin = [15,158,15,6,9]\n",
    "min(listmin)"
   ]
  },
  {
   "cell_type": "code",
   "execution_count": 229,
   "id": "a1a8a2f9-6324-42ea-997e-e5c916bacc9a",
   "metadata": {
    "tags": []
   },
   "outputs": [
    {
     "data": {
      "text/plain": [
       "'a'"
      ]
     },
     "execution_count": 229,
     "metadata": {},
     "output_type": "execute_result"
    }
   ],
   "source": [
    "# funcion min para lista de cadenas\n",
    "# devuelve el primer elemento en listas ordenadas\n",
    "lists =['a','b','c','d','e']\n",
    "min(lists)"
   ]
  },
  {
   "cell_type": "code",
   "execution_count": 231,
   "id": "8dd9fc11-1b92-481f-8103-cc2c41f53412",
   "metadata": {
    "tags": []
   },
   "outputs": [
    {
     "data": {
      "text/plain": [
       "'April'"
      ]
     },
     "execution_count": 231,
     "metadata": {},
     "output_type": "execute_result"
    }
   ],
   "source": [
    "# funcion min para lista de cadenas no ordenadas\n",
    "# devuelve el elemento que inicia con la primera letra por orden alfabetico\n",
    "months = ['January', 'February', 'March', 'April', 'May', 'June', 'July', 'August', 'September', 'October', 'November', 'December']\n",
    "min(months)"
   ]
  },
  {
   "cell_type": "markdown",
   "id": "57ac9d76-e99a-4960-9e67-e288bce32187",
   "metadata": {},
   "source": [
    "## Funcion sorted(argumento)\n",
    "* sorted( arguemeto ) devuelve una copia de una lista en orden de menor a mayor, sin modificar la lista\n",
    "* para mantener el orden de la lista usando la funcion sorte es necesario crear un nuevo obleto lista new_list =sorted(old_list)\n"
   ]
  },
  {
   "cell_type": "code",
   "execution_count": 234,
   "id": "086ea9ae-2635-45c9-8a62-b95a4065dd2c",
   "metadata": {
    "tags": []
   },
   "outputs": [
    {
     "name": "stdout",
     "output_type": "stream",
     "text": [
      "lista ordenada[6, 9, 15, 15, 158]\n",
      "lista original[15, 158, 15, 6, 9]\n",
      "para obtener una lista usable ordenada se asigna a un nuevo objeto\n",
      "lista nueva ordenada[6, 9, 15, 15, 158]\n"
     ]
    }
   ],
   "source": [
    "#funcion sorted con numeros entrega una lista ordena que no modifica la original\n",
    "# por defecto ordena de menor a mayor\n",
    "lorig = [15,158,15,6,9]\n",
    "print ('lista ordenada' + str(sorted(lorig)))\n",
    "print ('lista original' + str(lorig))\n",
    "print('para obtener una lista usable ordenada se asigna a un nuevo objeto')\n",
    "list_sort = sorted(lorig)\n",
    "print('lista nueva ordenada' + str(list_sort))"
   ]
  },
  {
   "cell_type": "code",
   "execution_count": 236,
   "id": "dac16069-cf20-4522-b060-08a5a9a4bd52",
   "metadata": {
    "tags": []
   },
   "outputs": [
    {
     "name": "stdout",
     "output_type": "stream",
     "text": [
      "lista oredenad decreciente[158, 15, 15, 9, 6]\n"
     ]
    }
   ],
   "source": [
    "# funcion sorted(argumento, reverse =true)\n",
    "lorig = [15,158,15,6,9]\n",
    "ls_sort_rev = sorted(lorig,reverse=True)\n",
    "print ('lista oredenad decreciente' + str(ls_sort_rev))"
   ]
  },
  {
   "cell_type": "markdown",
   "id": "f1147cfd-35f4-465a-a458-cd6012d36ae4",
   "metadata": {},
   "source": [
    "# Metodo join (argumento)\n",
    "* .join(argumento)\n",
    "* join es un método de cadena que toma una lista de cadenas como argumento y devuelve una cadena que consta de los elementos de la lista unidos por una cadena separadora.<br>\n",
    "Nota: Es importante separar con una coma (,) cada uno de los elementos de la lista."
   ]
  },
  {
   "cell_type": "code",
   "execution_count": 247,
   "id": "ae00b21b-00ac-4620-93be-6e73b6f07276",
   "metadata": {
    "tags": []
   },
   "outputs": [
    {
     "name": "stdout",
     "output_type": "stream",
     "text": [
      "fore\n",
      "aft\n",
      "starboard\n",
      "port\n",
      "<class 'str'>\n"
     ]
    }
   ],
   "source": [
    "# metodo .join(argumento)\n",
    "#e\"\\n\".join crea un salto de linea como un return\n",
    "new_str = \"\\n\".join([\"fore\", \"aft\", \"starboard\", \"port\"])\n",
    "print(new_str)\n",
    "print(type(new_str))"
   ]
  },
  {
   "cell_type": "code",
   "execution_count": 249,
   "id": "eaf426a5-fc0d-4637-b1f8-38717a353254",
   "metadata": {
    "tags": []
   },
   "outputs": [
    {
     "name": "stdout",
     "output_type": "stream",
     "text": [
      "fore_aft_starboard_port\n",
      "<class 'str'>\n"
     ]
    }
   ],
   "source": [
    "# metodo .join(argumento)\n",
    "#e\"_\".join inserta un _ para unir una lista\n",
    "new_str1 = \"_\".join([\"fore\", \"aft\", \"starboard\", \"port\"])\n",
    "print(new_str1)\n",
    "print(type(new_str1))"
   ]
  },
  {
   "cell_type": "markdown",
   "id": "0ae7688a-7751-4480-98b3-d54f458aee5a",
   "metadata": {
    "tags": []
   },
   "source": [
    "# Metodo append (argumento)\n",
    "* Un método útil para agregar un elemento al final de una lista.\n",
    "* este metodo modific el objeto inicial"
   ]
  },
  {
   "cell_type": "code",
   "execution_count": 259,
   "id": "8df8cdbf-c9fb-429d-b293-fd090b63e597",
   "metadata": {
    "tags": []
   },
   "outputs": [
    {
     "name": "stdout",
     "output_type": "stream",
     "text": [
      "['January', 'February', 'March', 'April', 'May', 'June', 'July', 'August', 'September', 'October', 'November']\n",
      "['January', 'February', 'March', 'April', 'May', 'June', 'July', 'August', 'September', 'October', 'November', 'Dicember']\n"
     ]
    }
   ],
   "source": [
    "#metodo append(argumento)\n",
    "# en la lista months falta diciembre\n",
    "months = ['January', 'February', 'March', 'April', 'May', 'June', 'July', 'August', 'September', 'October', 'November']\n",
    "print(months)\n",
    "# con append agrego diciembre\n",
    "months.append('Dicember')\n",
    "print(months)"
   ]
  },
  {
   "cell_type": "markdown",
   "id": "4ace40de-92ce-48c6-bd09-091332259e30",
   "metadata": {},
   "source": [
    "# Caso 1"
   ]
  },
  {
   "cell_type": "code",
   "execution_count": 24,
   "id": "f3616b31-aa57-4353-a72e-b71aca3d2d38",
   "metadata": {
    "tags": []
   },
   "outputs": [],
   "source": [
    "a = [1, 5, 8]\n",
    "b = [2, 6, 9, 10]\n",
    "c = [100, 200]"
   ]
  },
  {
   "cell_type": "code",
   "execution_count": 26,
   "id": "868f8c06-bbe7-4d33-99aa-90ad1b5b6601",
   "metadata": {
    "tags": []
   },
   "outputs": [
    {
     "name": "stdout",
     "output_type": "stream",
     "text": [
      "lista mas grande tiene elementos    :4\n",
      "lista mas pequeña tiene elementos   :2\n"
     ]
    }
   ],
   "source": [
    "# logica de la funcion, en este caso max( lista )\n",
    "#la lista en este caso es [len(a), len(b), len(c)]\n",
    "print('lista mas grande ' + 'tiene elementos    :' + str(max([len(a), len(b), len(c)])))\n",
    "print('lista mas pequeña ' + 'tiene elementos   :' + str(min([len(a), len(b), len(c)])))"
   ]
  },
  {
   "cell_type": "markdown",
   "id": "bb073984-4c19-4aee-932d-0b3e53e59c63",
   "metadata": {},
   "source": [
    "# Caso 2"
   ]
  },
  {
   "cell_type": "code",
   "execution_count": 301,
   "id": "de2ecd23-6e75-4fcb-9696-eec6bf0f9a71",
   "metadata": {
    "tags": []
   },
   "outputs": [
    {
     "data": {
      "text/plain": [
       "'Donna & Carol & Ben & Albert'"
      ]
     },
     "execution_count": 301,
     "metadata": {},
     "output_type": "execute_result"
    }
   ],
   "source": [
    "names = [\"Carol\", \"Albert\", \"Ben\", \"Donna\"]\n",
    "# en este caso uso conjuntamente el metodo joiny sorter\n",
    "names = ' & '.join(sorted(names, reverse=True))\n",
    "names"
   ]
  },
  {
   "cell_type": "markdown",
   "id": "34e8cc99-5be1-4c0d-a36b-6e950d1ef3ba",
   "metadata": {},
   "source": [
    "# Caso 3"
   ]
  },
  {
   "cell_type": "code",
   "execution_count": 316,
   "id": "8a97cad1-bbbd-4e1b-b65f-8ee158c0937e",
   "metadata": {
    "tags": []
   },
   "outputs": [
    {
     "name": "stdout",
     "output_type": "stream",
     "text": [
      "['Carol', 'Albert', 'Ben', 'Donna', 'Eugenia']\n",
      "['Albert', 'Ben', 'Carol', 'Donna', 'Eugenia']\n"
     ]
    }
   ],
   "source": [
    "names = [\"Carol\", \"Albert\", \"Ben\", \"Donna\"]\n",
    "#agrego el mobre 'eugenia'\n",
    "names.append(\"Eugenia\")\n",
    "print(names)\n",
    "names =sorted(names)\n",
    "print(names)\n",
    "\n"
   ]
  },
  {
   "cell_type": "markdown",
   "id": "501ae223-ba28-464b-8da5-72e469b1178c",
   "metadata": {},
   "source": [
    "# Tuples\n",
    "* tuplas son similares a las listas en que almacenan una colección ordenada de objetos a los que se puede acceder mediante sus índices\n",
    "* Es un tipo de contenedor de datos para secuencias \n",
    "    * ordenadas de elementos \n",
    "    * inmutables: son inmutables: no se pueden agregar ni eliminar elementos de las tuplas, ni ordenarlos en su lugar.\n",
    "* se utilizan para almacenar información relacionada, que es necesario que esten relacionadas\n",
    "* para crear una tupla se usan ( ) y lo elementos se separan por \",\" pero estos paréntesis son opcionales al definir tuplas y los programadores frecuentemente los omiten si los paréntesis no aclaran el código.\n",
    "* se pueden desempaquetar los elementos de una tupla se usa el desempaquetado de tuplas para asignar la información de una tupla a múltiples variables sin tener que acceder a ellas una por una \n",
    "\n",
    "\n",
    "\n"
   ]
  },
  {
   "cell_type": "code",
   "execution_count": 365,
   "id": "155f6220-cf23-4beb-b516-1dac9630a830",
   "metadata": {
    "tags": []
   },
   "outputs": [
    {
     "name": "stdout",
     "output_type": "stream",
     "text": [
      "<class 'tuple'>\n"
     ]
    }
   ],
   "source": [
    "# un ejemplo de tuplas es longitud y latitud\n",
    "AngkorWat = (13.4125, 103.866667)\n",
    "\n",
    "print(type(AngkorWat))"
   ]
  },
  {
   "cell_type": "markdown",
   "id": "d22d4d3d-e68c-4403-b94c-a372272fbace",
   "metadata": {},
   "source": [
    "## Desempaquetar tuplas 1"
   ]
  },
  {
   "cell_type": "code",
   "execution_count": 388,
   "id": "97a23741-640d-42db-ac11-f5c1b1278206",
   "metadata": {
    "tags": []
   },
   "outputs": [
    {
     "name": "stdout",
     "output_type": "stream",
     "text": [
      "<class 'tuple'>\n",
      "52\n",
      "40\n",
      "100\n",
      "<class 'int'>\n",
      "<class 'int'>\n",
      "<class 'int'>\n",
      "la primera dimension es 52 la segunda es 40 la tercera es 100\n"
     ]
    }
   ],
   "source": [
    "# desempaquetar elementos tupla\n",
    "dimension = 52,40,100\n",
    "print(type(dimension))\n",
    "# desempaquetamiento de una tupla en 3 variables\n",
    "lenght,width,height = dimension\n",
    "print(lenght)\n",
    "print(width)\n",
    "print(height)\n",
    "print(type(lenght))\n",
    "print(type(width))\n",
    "print(type(height))\n",
    "#visto que estan desempaquetadas puedo usar el format para el print\n",
    "print('la primera dimension es {} la segunda es {} la tercera es {}'.format(lenght, width, height))"
   ]
  },
  {
   "cell_type": "markdown",
   "id": "38e70001-105b-4799-a769-6bf81cc22af7",
   "metadata": {
    "tags": []
   },
   "source": [
    "## Desempaquetar tuplas 2"
   ]
  },
  {
   "cell_type": "code",
   "execution_count": 395,
   "id": "7ab71d9f-2841-4b89-b3d2-9b14033689ca",
   "metadata": {
    "tags": []
   },
   "outputs": [
    {
     "name": "stdout",
     "output_type": "stream",
     "text": [
      "52\n",
      "40\n",
      "100\n",
      "variable x  :52\n",
      "variable y  :40\n",
      "variable z  :100\n"
     ]
    }
   ],
   "source": [
    "dimension = 52,40,100\n",
    "print(dimension[0])\n",
    "print(dimension[1])\n",
    "print(dimension[2])\n",
    "# se pueden asignar a variables\n",
    "x =dimension[0]\n",
    "y=dimension[1]\n",
    "z=dimension[2]\n",
    "print('variable x  :'+ str(x))\n",
    "print('variable y  :'+ str(y))\n",
    "print('variable z  :'+ str(z))"
   ]
  },
  {
   "cell_type": "markdown",
   "id": "01d649f7-2527-46e9-8a2e-e74f4847e8b3",
   "metadata": {},
   "source": [
    "# Caso 1"
   ]
  },
  {
   "cell_type": "code",
   "execution_count": 404,
   "id": "b9eb62e9-61fd-4598-8744-13f03d089ae0",
   "metadata": {
    "tags": []
   },
   "outputs": [
    {
     "name": "stdout",
     "output_type": "stream",
     "text": [
      "<class 'tuple'>\n",
      "<class 'tuple'>\n"
     ]
    }
   ],
   "source": [
    "# es indiferente usar las ( ) o no para definir una tupla\n",
    "tuple_a = 1, 2\n",
    "tuple_b = (1, 2)\n",
    "print(type(tuple_a))\n",
    "print(type(tuple_b))"
   ]
  },
  {
   "cell_type": "code",
   "execution_count": 411,
   "id": "75855d97-c169-4f9f-9426-e74fbefa2906",
   "metadata": {
    "tags": []
   },
   "outputs": [
    {
     "data": {
      "text/plain": [
       "True"
      ]
     },
     "execution_count": 411,
     "metadata": {},
     "output_type": "execute_result"
    }
   ],
   "source": [
    "#verifica uguaglianza tuplas a y b\n",
    "tuple_a ==tuple_b"
   ]
  },
  {
   "cell_type": "code",
   "execution_count": 408,
   "id": "f5a91050-bb6e-479c-b541-483c968eb199",
   "metadata": {
    "tags": []
   },
   "outputs": [
    {
     "data": {
      "text/plain": [
       "2"
      ]
     },
     "execution_count": 408,
     "metadata": {},
     "output_type": "execute_result"
    }
   ],
   "source": [
    "# desempaquetado por indice\n",
    "tuple_a[1]"
   ]
  },
  {
   "cell_type": "markdown",
   "id": "a850e3bb-698b-46c6-8dc5-5ec45536b75d",
   "metadata": {},
   "source": [
    "# SET\n",
    "\n",
    "* set es un tipo de contenedor de datos para colecciones mutables y desordenadas de elementos únicos \n",
    "* se usa para eliminar rápidamente duplicados de una lista\n",
    "* un set se define con { }\n",
    "* admiten los operadores:\n",
    "    * in - not in : verificar existencias de elementos\n",
    "    * add : agregar elementos\n",
    "    * pop : eliminar elementos cuando elimina un elemento de un set, se elimina un elemento aleatorio visto que a diferencia de las listas, están desordenados por lo que no existe un \"último elemento\".\n",
    "* a diferencia de las listas, están desordenados por lo que no existe un \"último elemento\"\n",
    "\n",
    "\n"
   ]
  },
  {
   "cell_type": "code",
   "execution_count": 429,
   "id": "c7e03c23-207f-4323-8b16-64f15e0f7e58",
   "metadata": {
    "tags": []
   },
   "outputs": [
    {
     "name": "stdout",
     "output_type": "stream",
     "text": [
      "number en principio es:  <class 'list'>\n",
      "trasf de list a set, solo valores unicos   {1, 2, 3, 6}\n",
      "el nuevo objeto es de tipo set { }<class 'set'>\n"
     ]
    }
   ],
   "source": [
    "# los set permiten de eliminar repetidos de una lista\n",
    "numbers = [1, 2, 6, 3, 1, 1, 6]\n",
    "print('number en principio es:  '+ str(type(numbers)))\n",
    "# se transforma en set\n",
    "set_n = set(numbers)\n",
    "print('trasf de list a set, solo valores unicos   ' +  str(set_n))\n",
    "print('el nuevo objeto es de tipo set { }' + str(type(set_n)))"
   ]
  },
  {
   "cell_type": "code",
   "execution_count": 436,
   "id": "da078d0c-9a04-42f7-a22a-1734362c6245",
   "metadata": {
    "tags": []
   },
   "outputs": [],
   "source": [
    "# definicion de un set\n",
    "fruit = {\"apple\", \"banana\", \"orange\", \"grapefruit\"}\n"
   ]
  },
  {
   "cell_type": "code",
   "execution_count": 438,
   "id": "87ca18ad-87e5-4dce-ac2e-9b26f3883447",
   "metadata": {
    "tags": []
   },
   "outputs": [
    {
     "data": {
      "text/plain": [
       "True"
      ]
     },
     "execution_count": 438,
     "metadata": {},
     "output_type": "execute_result"
    }
   ],
   "source": [
    "# uso del in\n",
    "'apple' in fruit"
   ]
  },
  {
   "cell_type": "code",
   "execution_count": 440,
   "id": "1d7c6219-6760-4122-b922-280c094e1b6e",
   "metadata": {
    "tags": []
   },
   "outputs": [
    {
     "data": {
      "text/plain": [
       "False"
      ]
     },
     "execution_count": 440,
     "metadata": {},
     "output_type": "execute_result"
    }
   ],
   "source": [
    "# uso del not in\n",
    "'apple' not in fruit"
   ]
  },
  {
   "cell_type": "code",
   "execution_count": 453,
   "id": "a33d0205-c318-49d9-a2f2-8c1114b0526c",
   "metadata": {
    "tags": []
   },
   "outputs": [
    {
     "name": "stdout",
     "output_type": "stream",
     "text": [
      "{'apple', 'grapefruit', 'orange', 'mela', 'banana'}\n"
     ]
    }
   ],
   "source": [
    "# uso de add\n",
    "#agrego mela dos veces en el set y mantiene solo un valor, valores unicos\n",
    "fruit.add('mela')\n",
    "fruit.add('mela')\n",
    "print(fruit)"
   ]
  },
  {
   "cell_type": "code",
   "execution_count": 457,
   "id": "44b084be-9f53-4134-aea2-bf32cdb80fb0",
   "metadata": {
    "tags": []
   },
   "outputs": [
    {
     "name": "stdout",
     "output_type": "stream",
     "text": [
      "{'apple', 'grapefruit', 'orange', 'mela', 'banana'}\n",
      "apple\n"
     ]
    }
   ],
   "source": [
    "# uso de pop para eliminar\n",
    "print(fruit)\n",
    "print(fruit.pop())\n"
   ]
  },
  {
   "cell_type": "markdown",
   "id": "38c4ccf5-d070-4e51-b74e-40dd41050f4b",
   "metadata": {},
   "source": [
    "# Casos"
   ]
  },
  {
   "cell_type": "code",
   "execution_count": 469,
   "id": "a55bec8d-b9e2-4298-9491-7df88874a853",
   "metadata": {
    "tags": []
   },
   "outputs": [
    {
     "name": "stdout",
     "output_type": "stream",
     "text": [
      "numero car list 10\n",
      "numero de car set 4\n",
      "diferencia  6\n"
     ]
    }
   ],
   "source": [
    "a = [1, 2, 2, 3, 3, 3, 4, 4, 4, 4]\n",
    "b = set(a)\n",
    "print('numero car list ' + str(len(a)))\n",
    "print('numero de car set ' + str(len(b)))\n",
    "print('diferencia  ' + str(len(a) - len(b)))"
   ]
  },
  {
   "cell_type": "code",
   "execution_count": 477,
   "id": "cc723963-28a3-41ed-83ba-35bc0ed434c0",
   "metadata": {
    "tags": []
   },
   "outputs": [
    {
     "data": {
      "text/plain": [
       "1"
      ]
     },
     "execution_count": 477,
     "metadata": {},
     "output_type": "execute_result"
    }
   ],
   "source": [
    "a = [1, 2, 2, 3, 3, 3, 4, 4, 4, 4]\n",
    "b = set(a)\n",
    "b.add(5)\n",
    "b\n",
    "b.pop()"
   ]
  },
  {
   "cell_type": "markdown",
   "id": "1755024a-5dd9-4bd1-b211-e1df2acbf573",
   "metadata": {},
   "source": [
    "# Dictionaries and Identity Operators\n",
    "* Un diccionario es un tipo de datos mutable que almacena asignaciones de claves únicas a valores\n",
    "* Los diccionarios pueden tener claves de cualquier tipo inmutable, como números enteros o tuplas, no sólo cadenas. Las llaves pueden ser de cualquier tipo\n",
    "* Podemos buscar valores o insertar nuevos valores en el diccionario usando corchetes que encierran la clave\n",
    "* Podemos incluir contenedores en otros contenedores para crear estructuras de datos compuestas.\n",
    "* las llaves no se pueden repetir<\n"
   ]
  },
  {
   "cell_type": "code",
   "execution_count": 6,
   "id": "3fcf88d8-87ae-4295-96d3-2814d2e49974",
   "metadata": {
    "tags": []
   },
   "outputs": [],
   "source": [
    "# diccionario\n",
    "elements = {\"hydrogen\": 1, \"helium\": 2, \"carbon\": 6}"
   ]
  },
  {
   "cell_type": "code",
   "execution_count": 8,
   "id": "1b57fa1e-69a8-4018-8366-03be94208f10",
   "metadata": {
    "tags": []
   },
   "outputs": [
    {
     "data": {
      "text/plain": [
       "1"
      ]
     },
     "execution_count": 8,
     "metadata": {},
     "output_type": "execute_result"
    }
   ],
   "source": [
    "# buscar valor, aqui retorna el valor asociado a la clave\n",
    "elements[\"hydrogen\"]"
   ]
  },
  {
   "cell_type": "markdown",
   "id": "88611461-e87b-4338-824f-4f6506d1fa8d",
   "metadata": {
    "tags": []
   },
   "source": [
    "# modificar el valor asociado a una clave"
   ]
  },
  {
   "cell_type": "code",
   "execution_count": 17,
   "id": "9a20d723-d561-4aac-b664-d953b9951f7c",
   "metadata": {
    "tags": []
   },
   "outputs": [
    {
     "name": "stdout",
     "output_type": "stream",
     "text": [
      "dicc_origen{'hydrogen': 1, 'helium': 11, 'carbon': 6}\n",
      "dicc_cambiado{'hydrogen': 1, 'helium': 10, 'carbon': 6}\n"
     ]
    }
   ],
   "source": [
    "print('dicc_origen' + str(elements))\n",
    "# cambio el valor asociado a la clave helium\n",
    "elements['helium'] = 10\n",
    "print('dicc_cambiado' + str(elements))\n",
    "elements['helium'] = elements['helium'] + 1"
   ]
  },
  {
   "cell_type": "markdown",
   "id": "979edb47-0cd3-4e7a-b18b-72acf20b46ec",
   "metadata": {},
   "source": [
    "# In , not in, get()\n",
    "\n",
    "* Podemos verificar si un valor está en un diccionario con la palabra clave in.\n",
    "* Los diccionarios tienen un método get busca valores en un diccionario, pero a diferencia de los corchetes, get devuelve Ninguno (o un valor predeterminado de su elección) si no se encuentra la clave."
   ]
  },
  {
   "cell_type": "code",
   "execution_count": 44,
   "id": "ff7cad72-53ce-4b89-b093-78e77d4b3058",
   "metadata": {
    "tags": []
   },
   "outputs": [
    {
     "data": {
      "text/plain": [
       "True"
      ]
     },
     "execution_count": 44,
     "metadata": {},
     "output_type": "execute_result"
    }
   ],
   "source": [
    "# in diccionario\n",
    "'helium' in elements"
   ]
  },
  {
   "cell_type": "code",
   "execution_count": 58,
   "id": "ac618657-d5f5-4dd7-9e62-c56dc9f835e0",
   "metadata": {
    "tags": []
   },
   "outputs": [
    {
     "name": "stdout",
     "output_type": "stream",
     "text": [
      "llave en el diccionario                        6\n",
      "la llave no se encuentra en el diccionario     None\n"
     ]
    }
   ],
   "source": [
    "# get en diccionario\n",
    "# este metodo es similara a elements['carbon'] pero tiene una salida None\n",
    "# en caso de no encontrar la llavt\n",
    "print('llave esta en el diccionario                   ' + str(elements.get('carbon')))\n",
    "print('la llave no se encuentra en el diccionario     ' + str(elements.get('azoto')))     "
   ]
  },
  {
   "cell_type": "markdown",
   "id": "63c6d1f2-ba97-4b52-a098-60e22751c705",
   "metadata": {},
   "source": [
    "# Caso"
   ]
  },
  {
   "cell_type": "code",
   "execution_count": 64,
   "id": "2b76a780-a794-4fac-b31d-c272575cbc0b",
   "metadata": {
    "tags": []
   },
   "outputs": [
    {
     "name": "stdout",
     "output_type": "stream",
     "text": [
      "True\n",
      "True\n",
      "True\n",
      "False\n"
     ]
    }
   ],
   "source": [
    "a = [1, 2, 3]\n",
    "b = a\n",
    "c = [1, 2, 3]\n",
    "\n",
    "print(a == b)\n",
    "print(a is b)\n",
    "print(a == c)\n",
    "print(a is c)"
   ]
  },
  {
   "cell_type": "code",
   "execution_count": 68,
   "id": "4ed9da68-9f31-4b8e-a71c-880c4d512c8b",
   "metadata": {
    "tags": []
   },
   "outputs": [
    {
     "name": "stdout",
     "output_type": "stream",
     "text": [
      "<class 'dict'>\n"
     ]
    }
   ],
   "source": [
    "# diccionarion con valores listas\n",
    "animals = {'dogs': [20, 10, 15, 8, 32, 15], 'cats': [3,4,2,8,2,4], 'rabbits': [2, 3, 3], 'fish': [0.3, 0.5, 0.8, 0.3, 1]}\n",
    "print(type(animals))"
   ]
  },
  {
   "cell_type": "code",
   "execution_count": 72,
   "id": "31935714-9f72-4162-b489-db6519404045",
   "metadata": {
    "tags": []
   },
   "outputs": [
    {
     "name": "stdout",
     "output_type": "stream",
     "text": [
      "[0.3, 0.5, 0.8, 0.3, 1]\n",
      "15\n"
     ]
    }
   ],
   "source": [
    "animals = {'dogs': [20, 10, 15, 8, 32, 15], \n",
    " 'cats': [3,4,2,8,2,4], \n",
    " 'rabbits': [2, 3, 3], \n",
    " 'fish': [0.3, 0.5, 0.8, 0.3, 1]}\n",
    "print(animals['fish'])\n",
    "print(animals['dogs'][2])"
   ]
  },
  {
   "cell_type": "code",
   "execution_count": 74,
   "id": "fb4aeb60-4c76-4edd-9b1f-d458dd4361c8",
   "metadata": {
    "tags": []
   },
   "outputs": [],
   "source": [
    "# diccionario con valores que son diccionarios\n",
    "elements = {\"hydrogen\": {\"number\": 1,\n",
    "                         \"weight\": 1.00794,\n",
    "                         \"symbol\": \"H\"},\n",
    "              \"helium\": {\"number\": 2,\n",
    "                         \"weight\": 4.002602,\n",
    "                         \"symbol\": \"He\"}}"
   ]
  },
  {
   "cell_type": "code",
   "execution_count": 80,
   "id": "eaad0c0b-aef3-459d-8ca8-bb0c16743045",
   "metadata": {
    "tags": []
   },
   "outputs": [
    {
     "data": {
      "text/plain": [
       "4.002602"
      ]
     },
     "execution_count": 80,
     "metadata": {},
     "output_type": "execute_result"
    }
   ],
   "source": [
    "# como obtener informacion en caso que el valor sea un diccionario o cadena\n",
    "elements['helium']['weight']"
   ]
  },
  {
   "cell_type": "code",
   "execution_count": 98,
   "id": "0f942cda-ecc7-4abe-aa85-0e45ae4a2397",
   "metadata": {
    "tags": []
   },
   "outputs": [
    {
     "data": {
      "text/plain": [
       "{'hydrogen': {'number': 1, 'weight': 1.00794, 'symbol': 'H'},\n",
       " 'helium': {'number': 2, 'weight': 4.002602, 'symbol': 'He'},\n",
       " 'azoto': {'number': 1, 'weight': 10, 'simbol': 'az'}}"
      ]
     },
     "execution_count": 98,
     "metadata": {},
     "output_type": "execute_result"
    }
   ],
   "source": [
    "#agregar llave nueva al diccionario\n",
    "#defino el elemento como diccionario\n",
    "azoto = {'number':1,'weight': 10,'simbol':'az'}\n",
    "# agrega como columna\n",
    "elements[\"azoto\"] =azoto\n",
    "elements"
   ]
  },
  {
   "cell_type": "code",
   "execution_count": 100,
   "id": "1b354322-b0ac-446c-8b70-535f8f04959c",
   "metadata": {
    "tags": []
   },
   "outputs": [
    {
     "name": "stdout",
     "output_type": "stream",
     "text": [
      "{'hydrogen': {'is_noble_gas': 'False', 'number': 1, 'weight': 1.00794, 'symbol': 'H'}, 'helium': {'is_noble_gas': 'True', 'number': 2, 'weight': 4.002602, 'symbol': 'He'}}\n",
      "False\n",
      "True\n"
     ]
    }
   ],
   "source": [
    "# modificando un valor a la llave\n",
    "elements = {'hydrogen': {'number': 1, 'weight': 1.00794, 'symbol': 'H'},\n",
    "            'helium': {'number': 2, 'weight': 4.002602, 'symbol': 'He'}}\n",
    "\n",
    "# todo: Add an 'is_noble_gas' entry to the hydrogen and helium dictionaries\n",
    "# hint: helium is a noble gas, hydrogen isn't\n",
    "hydrogen={'is_noble_gas':'False','number': 1, 'weight': 1.00794, 'symbol': 'H'}\n",
    "elements['hydrogen'] =hydrogen\n",
    "helium = {'is_noble_gas':'True','number': 2, 'weight': 4.002602, 'symbol': 'He'}\n",
    "elements['helium'] =helium\n",
    "print(elements)\n",
    "print(elements['hydrogen']['is_noble_gas'])\n",
    "print(elements['helium']['is_noble_gas'])"
   ]
  },
  {
   "cell_type": "markdown",
   "id": "eb0ceb60-aaed-4b45-96fe-0e97f616965a",
   "metadata": {},
   "source": [
    "# SET"
   ]
  },
  {
   "cell_type": "code",
   "execution_count": 132,
   "id": "4dfae13c-a7fa-46cd-9ed8-33728f787a66",
   "metadata": {
    "tags": []
   },
   "outputs": [
    {
     "name": "stdout",
     "output_type": "stream",
     "text": [
      "if you can keep your head when all about you are losing theirs and blaming it on you   if you can trust yourself when all men doubt you     but make allowance for their doubting too   if you can wait and not be tired by waiting      or being lied about  don’t deal in lies   or being hated  don’t give way to hating      and yet don’t look too good  nor talk too wise \n",
      "\n"
     ]
    }
   ],
   "source": [
    "verse = \"if you can keep your head when all about you are losing theirs and blaming it on you   if you can trust yourself when all men doubt you     but make allowance for their doubting too   if you can wait and not be tired by waiting      or being lied about  don’t deal in lies   or being hated  don’t give way to hating      and yet don’t look too good  nor talk too wise\"\n",
    "print(verse, '\\n')\n",
    "\n"
   ]
  },
  {
   "cell_type": "code",
   "execution_count": 134,
   "id": "0238ffbd-fcf6-4262-b604-07c5a19973f5",
   "metadata": {
    "tags": []
   },
   "outputs": [
    {
     "name": "stdout",
     "output_type": "stream",
     "text": [
      "['if', 'you', 'can', 'keep', 'your', 'head', 'when', 'all', 'about', 'you', 'are', 'losing', 'theirs', 'and', 'blaming', 'it', 'on', 'you', 'if', 'you', 'can', 'trust', 'yourself', 'when', 'all', 'men', 'doubt', 'you', 'but', 'make', 'allowance', 'for', 'their', 'doubting', 'too', 'if', 'you', 'can', 'wait', 'and', 'not', 'be', 'tired', 'by', 'waiting', 'or', 'being', 'lied', 'about', 'don’t', 'deal', 'in', 'lies', 'or', 'being', 'hated', 'don’t', 'give', 'way', 'to', 'hating', 'and', 'yet', 'don’t', 'look', 'too', 'good', 'nor', 'talk', 'too', 'wise'] \n",
      "\n"
     ]
    }
   ],
   "source": [
    "# split verse into list of words\n",
    "s = verse.split()\n",
    "print (s, '\\n')"
   ]
  },
  {
   "cell_type": "code",
   "execution_count": 136,
   "id": "105f7c65-052e-45d9-b9b4-d3d5b8c69516",
   "metadata": {
    "tags": []
   },
   "outputs": [
    {
     "name": "stdout",
     "output_type": "stream",
     "text": [
      "{'for', 'or', 'theirs', 'your', 'give', 'keep', 'doubt', 'hating', 'you', 'talk', 'make', 'yourself', 'being', 'not', 'if', 'on', 'be', 'when', 'lies', 'too', 'in', 'wait', 'all', 'look', 'deal', 'to', 'but', 'hated', 'losing', 'can', 'lied', 'blaming', 'nor', 'yet', 'wise', 'tired', 'head', 'it', 'and', 'good', 'don’t', 'about', 'trust', 'way', 'men', 'doubting', 'allowance', 'by', 'waiting', 'their', 'are'} \n",
      "\n"
     ]
    }
   ],
   "source": [
    "# convert list to a data structure that stores unique elements\n",
    "verse_set ={'if', 'you', 'can', 'keep', 'your', 'head', 'when', 'all', 'about', 'you', 'are', 'losing', 'theirs', 'and', 'blaming', 'it', 'on', 'you', 'if', 'you', 'can', 'trust', 'yourself', 'when', 'all', 'men', 'doubt', 'you', 'but', 'make', 'allowance', 'for', 'their', 'doubting', 'too', 'if', 'you', 'can', 'wait', 'and', 'not', 'be', 'tired', 'by', 'waiting', 'or', 'being', 'lied', 'about', 'don’t', 'deal', 'in', 'lies', 'or', 'being', 'hated', 'don’t', 'give', 'way', 'to', 'hating', 'and', 'yet', 'don’t', 'look', 'too', 'good', 'nor', 'talk', 'too', 'wise'}\n",
    "print(verse_set, '\\n')"
   ]
  },
  {
   "cell_type": "code",
   "execution_count": 144,
   "id": "65fb8476-2c07-4d62-a295-3c7aae38ca93",
   "metadata": {
    "tags": []
   },
   "outputs": [
    {
     "name": "stdout",
     "output_type": "stream",
     "text": [
      "51\n"
     ]
    }
   ],
   "source": [
    "# print unique word\n",
    "print(len(verse_set))"
   ]
  },
  {
   "cell_type": "markdown",
   "id": "92335a4d-a17c-45e8-8b55-b6e1f6eba4fe",
   "metadata": {
    "tags": []
   },
   "source": [
    "# Dictionary"
   ]
  },
  {
   "cell_type": "code",
   "execution_count": 150,
   "id": "91161009-4d47-4be8-ade8-e32a0b4a3537",
   "metadata": {
    "tags": []
   },
   "outputs": [
    {
     "name": "stdout",
     "output_type": "stream",
     "text": [
      "{'if': 3, 'you': 6, 'can': 3, 'keep': 1, 'your': 1, 'head': 1, 'when': 2, 'all': 2, 'about': 2, 'are': 1, 'losing': 1, 'theirs': 1, 'and': 3, 'blaming': 1, 'it': 1, 'on': 1, 'trust': 1, 'yourself': 1, 'men': 1, 'doubt': 1, 'but': 1, 'make': 1, 'allowance': 1, 'for': 1, 'their': 1, 'doubting': 1, 'too': 3, 'wait': 1, 'not': 1, 'be': 1, 'tired': 1, 'by': 1, 'waiting': 1, 'or': 2, 'being': 2, 'lied': 1, \"don't\": 3, 'deal': 1, 'in': 1, 'lies': 1, 'hated': 1, 'give': 1, 'way': 1, 'to': 1, 'hating': 1, 'yet': 1, 'look': 1, 'good': 1, 'nor': 1, 'talk': 1, 'wise': 1} \n",
      "\n"
     ]
    }
   ],
   "source": [
    "verse_dict =  {'if': 3, 'you': 6, 'can': 3, 'keep': 1, 'your': 1, 'head': 1, 'when': 2, 'all': 2, 'about': 2, 'are': 1, 'losing': 1, 'theirs': 1, 'and': 3, 'blaming': 1, 'it': 1, 'on': 1, 'trust': 1, 'yourself': 1, 'men': 1, 'doubt': 1, 'but': 1, 'make': 1, 'allowance': 1, 'for': 1, 'their': 1, 'doubting': 1, 'too': 3, 'wait': 1, 'not': 1, 'be': 1, 'tired': 1, 'by': 1, 'waiting': 1, 'or': 2, 'being': 2, 'lied': 1, 'don\\'t': 3, 'deal': 1, 'in': 1, 'lies': 1, 'hated': 1, 'give': 1, 'way': 1, 'to': 1, 'hating': 1, 'yet': 1, 'look': 1, 'good': 1, 'nor': 1, 'talk': 1, 'wise': 1}\n",
    "print(verse_dict, '\\n')"
   ]
  },
  {
   "cell_type": "code",
   "execution_count": 158,
   "id": "0f100677-5622-480a-a3e8-79471ceacc00",
   "metadata": {
    "tags": []
   },
   "outputs": [
    {
     "name": "stdout",
     "output_type": "stream",
     "text": [
      "51\n"
     ]
    }
   ],
   "source": [
    "# find number of unique keys in the dictionary\n",
    "num_keys = len(verse_dict.keys())\n",
    "print(num_keys)"
   ]
  },
  {
   "cell_type": "code",
   "execution_count": 164,
   "id": "b1b544d9-a463-4561-8f3f-5fe9070f5976",
   "metadata": {
    "tags": []
   },
   "outputs": [
    {
     "name": "stdout",
     "output_type": "stream",
     "text": [
      "False\n"
     ]
    }
   ],
   "source": [
    "# find whether 'breathe' is a key in the dictionary\n",
    "contains_breathe = 'breath' in verse_dict\n",
    "print(contains_breathe)"
   ]
  },
  {
   "cell_type": "code",
   "execution_count": 182,
   "id": "678da860-cad0-4388-936f-a89812d5d400",
   "metadata": {
    "tags": []
   },
   "outputs": [
    {
     "name": "stdout",
     "output_type": "stream",
     "text": [
      "['about', 'all', 'allowance', 'and', 'are', 'be', 'being', 'blaming', 'but', 'by', 'can', 'deal', \"don't\", 'doubt', 'doubting', 'for', 'give', 'good', 'hated', 'hating', 'head', 'if', 'in', 'it', 'keep', 'lied', 'lies', 'look', 'losing', 'make', 'men', 'nor', 'not', 'on', 'or', 'talk', 'their', 'theirs', 'tired', 'to', 'too', 'trust', 'wait', 'waiting', 'way', 'when', 'wise', 'yet', 'you', 'your', 'yourself'] \n",
      "\n"
     ]
    }
   ],
   "source": [
    "# create and sort a list of the dictionary's keys\n",
    "sorted_keys = sorted(verse_dict.keys())\n",
    "print(sorted_keys,'\\n')"
   ]
  },
  {
   "cell_type": "code",
   "execution_count": 184,
   "id": "bfaa7fea-67ab-41a4-827d-ac230d88ca90",
   "metadata": {
    "tags": []
   },
   "outputs": [
    {
     "name": "stdout",
     "output_type": "stream",
     "text": [
      "about\n"
     ]
    }
   ],
   "source": [
    "# get the first element in the sorted list of keys\n",
    "print(sorted_keys[0])"
   ]
  },
  {
   "cell_type": "code",
   "execution_count": 189,
   "id": "80efa9d0-1c13-420d-8abb-07d037af91f7",
   "metadata": {
    "tags": []
   },
   "outputs": [
    {
     "name": "stdout",
     "output_type": "stream",
     "text": [
      "yourself\n",
      "yourself\n"
     ]
    }
   ],
   "source": [
    "# find the element with the highest value in the list of keys\n",
    "#visto que esta ordenada es la ultima\n",
    "print(sorted_keys[-1]) \n",
    "print(max(sorted_keys))"
   ]
  },
  {
   "cell_type": "code",
   "execution_count": 155,
   "id": "8b4c14d7-7434-432c-bac1-2dd9042b9e9c",
   "metadata": {
    "tags": []
   },
   "outputs": [
    {
     "name": "stdout",
     "output_type": "stream",
     "text": [
      "['January', 7, 'February', 8, 'March', 5, 'April', 5, 'May', 3, 'June', 4, 'July', 4, 'August', 6, 'September', 9, 'October', 7, 'November', 8, 'December', 8]\n"
     ]
    }
   ],
   "source": [
    "# funcion que crea lista con elementos y su numero de caracteres\n",
    "def word_char(lista):\n",
    "    lis = []\n",
    "    for i in months:\n",
    "        lista = lis.append(i)\n",
    "        lista = lis.append(len(i))     \n",
    "    return lis\n",
    "x= word_char(months)\n",
    "print(x)\n"
   ]
  },
  {
   "attachments": {
    "358aafb0-d1e0-429b-987c-3fd4cf59a149.png": {
     "image/png": "[encoded data removed]"
    }
   },
   "cell_type": "markdown",
   "id": "492456d9-9e3a-479a-bd9d-96e38f6c50d7",
   "metadata": {},
   "source": [
    "![Captura3.png](attachment:358aafb0-d1e0-429b-987c-3fd4cf59a149.png)"
   ]
  },
  {
   "cell_type": "code",
   "execution_count": null,
   "id": "5022c77a-cde2-4634-9ea3-683e0b972a11",
   "metadata": {},
   "outputs": [],
   "source": []
  }
 ],
 "metadata": {
  "kernelspec": {
   "display_name": "Python 3 (ipykernel)",
   "language": "python",
   "name": "python3"
  },
  "language_info": {
   "codemirror_mode": {
    "name": "ipython",
    "version": 3
   },
   "file_extension": ".py",
   "mimetype": "text/x-python",
   "name": "python",
   "nbconvert_exporter": "python",
   "pygments_lexer": "ipython3",
   "version": "3.11.7"
  }
 },
 "nbformat": 4,
 "nbformat_minor": 5
}
